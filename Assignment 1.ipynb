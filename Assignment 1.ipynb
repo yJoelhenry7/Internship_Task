{
 "cells": [
  {
   "cell_type": "markdown",
   "id": "678e24d0",
   "metadata": {},
   "source": [
    "Print Hello, World! to stdout."
   ]
  },
  {
   "cell_type": "code",
   "execution_count": 1,
   "id": "c0da91bc",
   "metadata": {},
   "outputs": [
    {
     "name": "stdout",
     "output_type": "stream",
     "text": [
      "Hello, World!\n"
     ]
    }
   ],
   "source": [
    "if __name__ == '__main__':\n",
    "    print(\"Hello, World!\")"
   ]
  },
  {
   "cell_type": "markdown",
   "id": "cab165d1",
   "metadata": {},
   "source": [
    "Print Weird if the number is weird. Otherwise, print Not Weird."
   ]
  },
  {
   "cell_type": "code",
   "execution_count": 2,
   "id": "53fe7bd9",
   "metadata": {},
   "outputs": [
    {
     "name": "stdout",
     "output_type": "stream",
     "text": [
      "3\n",
      "Weird\n"
     ]
    }
   ],
   "source": [
    "import math\n",
    "import os\n",
    "import random\n",
    "import re\n",
    "import sys\n",
    "\n",
    "\n",
    "\n",
    "if __name__ == '__main__':\n",
    "    n = int(input().strip())\n",
    "if(n%2!=0):\n",
    "    print(\"Weird\")\n",
    "elif(n%2==0 and n>=2 and n<=5):\n",
    "    print(\"Not Weird\")\n",
    "elif(n%2==0 and n>=6 and n<=20):\n",
    "    print(\"Weird\")\n",
    "elif(n%2==0 and n>20):\n",
    "    print(\"Not Weird\")"
   ]
  },
  {
   "cell_type": "markdown",
   "id": "7ad09d4a",
   "metadata": {},
   "source": [
    "do sum, subtract, multiply"
   ]
  },
  {
   "cell_type": "code",
   "execution_count": 3,
   "id": "0f628f00",
   "metadata": {},
   "outputs": [
    {
     "name": "stdout",
     "output_type": "stream",
     "text": [
      "5\n",
      "3\n",
      "8\n",
      "2\n",
      "15\n"
     ]
    }
   ],
   "source": [
    "if __name__ == '__main__':\n",
    "    a = int(input())\n",
    "    b = int(input())\n",
    "print(a+b)\n",
    "print(a-b)\n",
    "print(a*b)"
   ]
  },
  {
   "cell_type": "markdown",
   "id": "fc4929c6",
   "metadata": {},
   "source": [
    "Division in python"
   ]
  },
  {
   "cell_type": "code",
   "execution_count": 4,
   "id": "0c0f4609",
   "metadata": {},
   "outputs": [
    {
     "name": "stdout",
     "output_type": "stream",
     "text": [
      "8\n",
      "5\n",
      "1\n",
      "1.6\n"
     ]
    }
   ],
   "source": [
    "if __name__ == '__main__':\n",
    "    a = int(input())\n",
    "    b = int(input())\n",
    "print(a//b)\n",
    "print(a/b)"
   ]
  },
  {
   "cell_type": "markdown",
   "id": "cd79b8ba",
   "metadata": {},
   "source": [
    "make list and afterthat make the square of those numbers"
   ]
  },
  {
   "cell_type": "code",
   "execution_count": 5,
   "id": "1698b71e",
   "metadata": {},
   "outputs": [
    {
     "name": "stdout",
     "output_type": "stream",
     "text": [
      "5\n",
      "0\n",
      "1\n",
      "4\n",
      "9\n",
      "16\n"
     ]
    }
   ],
   "source": [
    "if __name__ == '__main__':\n",
    "    n = int(input())\n",
    "val = 0\n",
    "for i in range(n):\n",
    "    print(val*val)\n",
    "    val= val+1"
   ]
  },
  {
   "cell_type": "markdown",
   "id": "3f590fcd",
   "metadata": {},
   "source": [
    "print the list of numbers from 1 to n"
   ]
  },
  {
   "cell_type": "code",
   "execution_count": 6,
   "id": "4105d08c",
   "metadata": {},
   "outputs": [
    {
     "name": "stdout",
     "output_type": "stream",
     "text": [
      "5\n",
      "12345\n"
     ]
    }
   ],
   "source": [
    "if __name__ == '__main__':\n",
    "    n = int(input())\n",
    "    val = ''\n",
    "    for i in range(1,n+1):\n",
    "        val = val+str(i)\n",
    "    print(val)"
   ]
  },
  {
   "cell_type": "markdown",
   "id": "e660240b",
   "metadata": {},
   "source": [
    "check a year is leap year or not"
   ]
  },
  {
   "cell_type": "code",
   "execution_count": 7,
   "id": "0a1d8db9",
   "metadata": {},
   "outputs": [
    {
     "name": "stdout",
     "output_type": "stream",
     "text": [
      "2024\n",
      "True\n"
     ]
    }
   ],
   "source": [
    "def is_leap(year):\n",
    "    \n",
    "    # Write your logic here\n",
    "    if (year % 4 == 0 and year % 100 != 0) or (year % 400 == 0):\n",
    "        return True\n",
    "    else:\n",
    "        return False\n",
    "\n",
    "year = int(input())\n",
    "print(is_leap(year))"
   ]
  }
 ],
 "metadata": {
  "kernelspec": {
   "display_name": "Python 3 (ipykernel)",
   "language": "python",
   "name": "python3"
  },
  "language_info": {
   "codemirror_mode": {
    "name": "ipython",
    "version": 3
   },
   "file_extension": ".py",
   "mimetype": "text/x-python",
   "name": "python",
   "nbconvert_exporter": "python",
   "pygments_lexer": "ipython3",
   "version": "3.9.13"
  }
 },
 "nbformat": 4,
 "nbformat_minor": 5
}
