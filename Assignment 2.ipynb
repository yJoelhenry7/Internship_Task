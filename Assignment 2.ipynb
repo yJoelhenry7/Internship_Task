{
 "cells": [
  {
   "cell_type": "markdown",
   "id": "c67d6a50",
   "metadata": {},
   "source": [
    "List Comprehensions"
   ]
  },
  {
   "cell_type": "code",
   "execution_count": 1,
   "id": "6f4551c6",
   "metadata": {},
   "outputs": [
    {
     "name": "stdout",
     "output_type": "stream",
     "text": [
      "1\n",
      "1\n",
      "1\n",
      "2\n",
      "[[0, 0, 0], [0, 0, 1], [0, 1, 0], [1, 0, 0], [1, 1, 1]]\n"
     ]
    }
   ],
   "source": [
    "if __name__ == '__main__':\n",
    "    x = int(input())\n",
    "    y = int(input())\n",
    "    z = int(input())\n",
    "    n = int(input())\n",
    "    output = [];\n",
    "    abc = [];\n",
    "    for X in range(x+1):\n",
    "        for Y in range(y+1):\n",
    "            for Z in range(z+1):\n",
    "                if X+Y+Z != n:\n",
    "                    abc = [X,Y,Z];\n",
    "                    output.append(abc);\n",
    "print(output);    \n"
   ]
  },
  {
   "cell_type": "markdown",
   "id": "9cc6cb35",
   "metadata": {},
   "source": [
    "Find the Runner-Up Score!"
   ]
  },
  {
   "cell_type": "code",
   "execution_count": 2,
   "id": "7d9e3f1c",
   "metadata": {},
   "outputs": [
    {
     "name": "stdout",
     "output_type": "stream",
     "text": [
      "5\n",
      "2 3 6 6 5\n",
      "5\n"
     ]
    }
   ],
   "source": [
    "if __name__ == '__main__':\n",
    "    n = int(input())\n",
    "    arr = list(map(int, input().split()))\n",
    "    arr.sort()\n",
    "    print(arr[(arr.index(max(arr)))-1])"
   ]
  },
  {
   "cell_type": "markdown",
   "id": "4bbb46b7",
   "metadata": {},
   "source": [
    "Nested Lists"
   ]
  },
  {
   "cell_type": "code",
   "execution_count": 3,
   "id": "c6b2dc6d",
   "metadata": {},
   "outputs": [
    {
     "name": "stdout",
     "output_type": "stream",
     "text": [
      "5\n",
      "Harry\n",
      "37.21\n",
      "Berry\n",
      "37.21\n",
      "Tina\n",
      "37.2\n",
      "Akriti\n",
      "41\n",
      "Harsh\n",
      "39\n",
      "Berry\n",
      "Harry\n"
     ]
    }
   ],
   "source": [
    "if __name__ == '__main__':\n",
    "    alist = []\n",
    "    for i in range(int(input())):\n",
    "        name = input()\n",
    "        score = float(input())\n",
    "        alist.append([name, score])\n",
    "second_highest = sorted(set([score for name, score in alist]))[1]\n",
    "print('\\n'.join(sorted([name for name, score in alist if score == second_highest])))"
   ]
  },
  {
   "cell_type": "markdown",
   "id": "26dc83f0",
   "metadata": {},
   "source": [
    "Finding the percentage"
   ]
  },
  {
   "cell_type": "code",
   "execution_count": 4,
   "id": "7d8e5112",
   "metadata": {},
   "outputs": [
    {
     "name": "stdout",
     "output_type": "stream",
     "text": [
      "3\n",
      "Krishna 67 68 69\n",
      "Arjun 70 98 63\n",
      "Malika 52 56 60\n",
      "Malika\n",
      "56.00\n"
     ]
    }
   ],
   "source": [
    "if __name__ == '__main__':\n",
    "    n = int(input())\n",
    "    student_marks = {}\n",
    "    for _ in range(n):\n",
    "        name, *line = input().split()\n",
    "        scores = list(map(float, line))\n",
    "        student_marks[name] = scores\n",
    "    query_name = input()\n",
    "    avg = sum(student_marks[query_name]) / 3\n",
    "    print(\"{:.2f}\".format(avg))\n"
   ]
  },
  {
   "cell_type": "markdown",
   "id": "04208b1d",
   "metadata": {},
   "source": [
    "Lists"
   ]
  },
  {
   "cell_type": "code",
   "execution_count": 5,
   "id": "f8effbb4",
   "metadata": {},
   "outputs": [
    {
     "name": "stdout",
     "output_type": "stream",
     "text": [
      "12\n",
      "insert 0 5\n",
      "insert 1 10\n",
      "insert 0 6\n",
      "print\n",
      "[6, 5, 10]\n",
      "remove 6\n",
      "append 9\n",
      "append 1\n",
      "sort\n",
      "print\n",
      "[1, 5, 9, 10]\n",
      "pop\n",
      "reverse\n",
      "print\n",
      "[9, 5, 1]\n"
     ]
    }
   ],
   "source": [
    "if __name__ == '__main__':\n",
    "    N = int(input())\n",
    "    output=[];\n",
    "    for i in range(0,N):\n",
    "        a=input().split()\n",
    "        if a[0]=='print':\n",
    "            print(output)\n",
    "        elif a[0] == \"insert\":\n",
    "            output.insert(int(a[1]),int(a[2]))\n",
    "        elif a[0] == \"remove\":\n",
    "            output.remove(int(a[1]))\n",
    "        elif a[0] == \"pop\":\n",
    "            output.pop()\n",
    "        elif a[0] == \"append\":\n",
    "            output.append(int(a[1]))\n",
    "        elif a[0] == \"sort\":\n",
    "            output.sort()\n",
    "        else:\n",
    "            output.reverse()\n"
   ]
  },
  {
   "cell_type": "markdown",
   "id": "645f3943",
   "metadata": {},
   "source": [
    "Tuples"
   ]
  },
  {
   "cell_type": "code",
   "execution_count": 6,
   "id": "1d13c39a",
   "metadata": {},
   "outputs": [
    {
     "name": "stdout",
     "output_type": "stream",
     "text": [
      "2\n",
      "1 2\n",
      "-3550055125485641917\n"
     ]
    }
   ],
   "source": [
    "n = int(input())\n",
    "t = tuple(map(int, input().split()))\n",
    "print(hash(t))"
   ]
  },
  {
   "cell_type": "markdown",
   "id": "aaae55c4",
   "metadata": {},
   "source": [
    "# Sets"
   ]
  },
  {
   "cell_type": "markdown",
   "id": "4eae5b80",
   "metadata": {},
   "source": [
    "Introduction to Sets"
   ]
  },
  {
   "cell_type": "code",
   "execution_count": 7,
   "id": "700c42f9",
   "metadata": {},
   "outputs": [],
   "source": [
    "def average(array):\n",
    "    # your code goes here\n",
    "    s=set(arr)\n",
    "    sm=0\n",
    "    ct=0\n",
    "    for i in s:\n",
    "        sm+=i\n",
    "        ct+=1\n",
    "    return sm/ct"
   ]
  },
  {
   "cell_type": "markdown",
   "id": "182de090",
   "metadata": {},
   "source": [
    "No idea!"
   ]
  },
  {
   "cell_type": "code",
   "execution_count": 8,
   "id": "612f9fcf",
   "metadata": {},
   "outputs": [
    {
     "name": "stdout",
     "output_type": "stream",
     "text": [
      "3 2\n",
      "1 5 3\n",
      "3 1\n",
      "5 7\n",
      "1\n"
     ]
    }
   ],
   "source": [
    "# Enter your code here. Read input from STDIN. Print output to STDOUT+\n",
    "n, m = map(int, input().split())\n",
    "array = list(map(int, input().split()))\n",
    "set_a = set(map(int, input().split()))\n",
    "set_b = set(map(int, input().split()))\n",
    "\n",
    "happiness = 0\n",
    "for i in array:\n",
    "    if i in set_a:\n",
    "        happiness += 1\n",
    "    elif i in set_b:\n",
    "        happiness -= 1\n",
    "\n",
    "print(happiness)"
   ]
  },
  {
   "cell_type": "markdown",
   "id": "750e07c6",
   "metadata": {},
   "source": [
    "Symmetric Difference"
   ]
  },
  {
   "cell_type": "code",
   "execution_count": 9,
   "id": "6769f0af",
   "metadata": {},
   "outputs": [
    {
     "name": "stdout",
     "output_type": "stream",
     "text": [
      "4\n",
      "2 4 5 9\n",
      "4\n",
      "2 4 11 12\n",
      "5\n",
      "9\n",
      "11\n",
      "12\n"
     ]
    }
   ],
   "source": [
    "\n",
    "m = int(input())\n",
    "set_m = set(map(int, input().split()))\n",
    "n = int(input())\n",
    "set_n = set(map(int, input().split()))\n",
    "\n",
    "sym_diff = sorted(set_m.symmetric_difference(set_n))\n",
    "for num in sym_diff:\n",
    "    print(num)"
   ]
  },
  {
   "cell_type": "markdown",
   "id": "0079fcfb",
   "metadata": {},
   "source": [
    "Set Add()"
   ]
  },
  {
   "cell_type": "code",
   "execution_count": 10,
   "id": "b6cbcd93",
   "metadata": {},
   "outputs": [
    {
     "name": "stdout",
     "output_type": "stream",
     "text": [
      "7\n",
      "UK\n",
      "China\n",
      "USA\n",
      "France\n",
      "New Zealand\n",
      "UK\n",
      "France\n",
      "5\n"
     ]
    }
   ],
   "source": [
    "n=int(input())\n",
    "coun=set()\n",
    "for i in range(n):\n",
    "    coun.add(input())\n",
    "print(len(coun)) "
   ]
  },
  {
   "cell_type": "markdown",
   "id": "7aa9b707",
   "metadata": {},
   "source": [
    "set discordSet .discard(), .remove() & .pop()"
   ]
  },
  {
   "cell_type": "code",
   "execution_count": null,
   "id": "052b63bb",
   "metadata": {},
   "outputs": [],
   "source": [
    "n = int(input())\n",
    "s = set(map(int, input().split()))\n",
    "a=int(input())\n",
    "for i in range(a):\n",
    "    b=input().split()\n",
    "    if b[0]==\"remove\":\n",
    "        s.remove(int(b[1]))\n",
    "    elif b[0]==\"discard\":\n",
    "        s.discard(int(b[1]))\n",
    "    else :\n",
    "        s.pop()\n",
    "print(sum(list(s)))\n"
   ]
  },
  {
   "cell_type": "markdown",
   "id": "62bcd19e",
   "metadata": {},
   "source": [
    "Set .union() Operation"
   ]
  },
  {
   "cell_type": "code",
   "execution_count": null,
   "id": "35d28604",
   "metadata": {},
   "outputs": [],
   "source": [
    "n = int(input())\n",
    "english = set(map(int, input().split()))\n",
    "m = int(input())\n",
    "french = set(map(int, input().split()))\n",
    "\n",
    "total = len(english.union(french))\n",
    "print(total)"
   ]
  },
  {
   "cell_type": "code",
   "execution_count": null,
   "id": "b6fb38e4",
   "metadata": {},
   "outputs": [],
   "source": [
    "Set .intersection() Operation"
   ]
  },
  {
   "cell_type": "code",
   "execution_count": 11,
   "id": "229d4c30",
   "metadata": {},
   "outputs": [
    {
     "name": "stdout",
     "output_type": "stream",
     "text": [
      "9\n",
      "1 2 3 4 5 6 7 8 9\n",
      "9\n",
      "10 1 2 3 11 21 55 6 8\n",
      "5\n"
     ]
    }
   ],
   "source": [
    "n = int(input())\n",
    "english = set(map(int, input().split()))\n",
    "m = int(input())\n",
    "french = set(map(int, input().split()))\n",
    "\n",
    "total = len(english.intersection(french))\n",
    "print(total)\n"
   ]
  },
  {
   "cell_type": "markdown",
   "id": "dbd001fe",
   "metadata": {},
   "source": [
    "Set .difference() Operation"
   ]
  },
  {
   "cell_type": "code",
   "execution_count": 12,
   "id": "196d6c1b",
   "metadata": {},
   "outputs": [
    {
     "name": "stdout",
     "output_type": "stream",
     "text": [
      "9\n",
      "1 2 3 4 5 6 7 8 9\n",
      "9\n",
      "10 1 2 3 11 21 55 6 8\n",
      "4\n"
     ]
    }
   ],
   "source": [
    "n = int(input())\n",
    "eng = set(map(int, input().split()))\n",
    "\n",
    "m = int(input())\n",
    "french = set(map(int, input().split()))\n",
    "\n",
    "eng_only = eng.difference(french)\n",
    "\n",
    "print(len(eng_only))\n"
   ]
  },
  {
   "cell_type": "code",
   "execution_count": null,
   "id": "a72eead4",
   "metadata": {},
   "outputs": [],
   "source": [
    "Set .symmetric_difference() Operation"
   ]
  },
  {
   "cell_type": "code",
   "execution_count": 13,
   "id": "1f4b879e",
   "metadata": {},
   "outputs": [
    {
     "name": "stdout",
     "output_type": "stream",
     "text": [
      "9\n",
      "1 2 3 4 5 6 7 8 9\n",
      "9\n",
      "10 1 2 3 11 21 55 6 8\n",
      "8\n"
     ]
    }
   ],
   "source": [
    "n1 = int(input())\n",
    "e = set(map(int, input().split()))\n",
    "n2 = int(input())\n",
    "f = set(map(int, input().split()))\n",
    "\n",
    "count = len(e ^ f)\n",
    "print(count)\n"
   ]
  },
  {
   "cell_type": "markdown",
   "id": "0642ac22",
   "metadata": {},
   "source": [
    "Set Mutations"
   ]
  },
  {
   "cell_type": "code",
   "execution_count": 14,
   "id": "50dacb70",
   "metadata": {},
   "outputs": [
    {
     "name": "stdout",
     "output_type": "stream",
     "text": [
      "16\n",
      "1 2 3 4 5 6 7 8 9 10 11 12 13 14 24 52\n",
      "4\n",
      "intersection_update 10\n",
      " 2 3 5 6 8 9 1 4 7 11\n",
      " update 2\n",
      " 55 66\n",
      "symmetric_difference_update 5\n",
      "22 7 35 62 58\n",
      "difference_update 7\n",
      "11 22 35 55 58 62 66\n",
      "38\n"
     ]
    }
   ],
   "source": [
    "n = int(input())\n",
    "s = set(map(int, input().split()))\n",
    "\n",
    "n_op = int(input())\n",
    "\n",
    "for i in range(n_op):\n",
    "    op = input().split()\n",
    "    other_set = set(map(int, input().split()))\n",
    "    \n",
    "    if op[0] == 'intersection_update':\n",
    "        s.intersection_update(other_set)\n",
    "    elif op[0] == 'update':\n",
    "        s.update(other_set)\n",
    "    elif op[0] == 'symmetric_difference_update':\n",
    "        s.symmetric_difference_update(other_set)\n",
    "    elif op[0] == 'difference_update':\n",
    "        s.difference_update(other_set)\n",
    "\n",
    "print(sum(s))"
   ]
  },
  {
   "cell_type": "markdown",
   "id": "ad06edb5",
   "metadata": {},
   "source": [
    "Captian'S Room"
   ]
  },
  {
   "cell_type": "code",
   "execution_count": 15,
   "id": "f915e22e",
   "metadata": {},
   "outputs": [
    {
     "name": "stdout",
     "output_type": "stream",
     "text": [
      "5\n",
      "1 2 3 6 5 4 4 2 5 3 6 1 6 5 3 2 4 1 2 5 1 4 3 6 8 4 3 1 5 6 2 \n",
      "8\n"
     ]
    }
   ],
   "source": [
    "k = int(input())\n",
    "room_list = list(map(int, input().split()))\n",
    "\n",
    "room_counts = {}\n",
    "for room in room_list:\n",
    "    if room in room_counts:\n",
    "        room_counts[room] += 1\n",
    "    else:\n",
    "        room_counts[room] = 1\n",
    "\n",
    "for room, count in room_counts.items():\n",
    "    if count == 1:\n",
    "        print(room)\n",
    "        break\n"
   ]
  },
  {
   "cell_type": "markdown",
   "id": "b1436fda",
   "metadata": {},
   "source": [
    "Check subset"
   ]
  },
  {
   "cell_type": "code",
   "execution_count": 16,
   "id": "881fc6f5",
   "metadata": {},
   "outputs": [
    {
     "name": "stdout",
     "output_type": "stream",
     "text": [
      "3\n",
      "5\n",
      "1 2 3 5 6\n",
      "9\n",
      "9 8 5 6 3 2 1 4 7\n",
      "True\n",
      "1\n",
      "2\n",
      "5\n",
      "3 6 5 4 1\n",
      "False\n",
      "7\n",
      "1 2 3 5 6 8 9\n",
      "3\n",
      "9 8 2\n",
      "False\n"
     ]
    }
   ],
   "source": [
    "t = int(input())   # number of test cases\n",
    "\n",
    "for i in range(t):\n",
    "    nA = int(input())   # number of elements in set A\n",
    "    A = set(map(int, input().split()))   # set A\n",
    "    nB = int(input())   # number of elements in set B\n",
    "    B = set(map(int, input().split()))   # set B\n",
    "    \n",
    "    if A.issubset(B):\n",
    "        print(True)\n",
    "    else:\n",
    "        print(False)"
   ]
  },
  {
   "cell_type": "markdown",
   "id": "5528b534",
   "metadata": {},
   "source": [
    "Check superset"
   ]
  },
  {
   "cell_type": "code",
   "execution_count": 17,
   "id": "60df145c",
   "metadata": {},
   "outputs": [
    {
     "name": "stdout",
     "output_type": "stream",
     "text": [
      "1 2 3 4 5 6 7 8 9 10 11 12 23 45 84 78\n",
      "2\n",
      "1 2 3 4 5\n",
      "100 11 12\n",
      "False\n"
     ]
    }
   ],
   "source": [
    "A = set(input().split())\n",
    "n = int(input())\n",
    "\n",
    "is_superset = True\n",
    "\n",
    "for i in range(n):\n",
    "    other_set = set(input().split())\n",
    "    if not other_set.issubset(A) or other_set == A:\n",
    "        is_superset = False\n",
    "        break\n",
    "\n",
    "print(is_superset)"
   ]
  }
 ],
 "metadata": {
  "kernelspec": {
   "display_name": "Python 3 (ipykernel)",
   "language": "python",
   "name": "python3"
  },
  "language_info": {
   "codemirror_mode": {
    "name": "ipython",
    "version": 3
   },
   "file_extension": ".py",
   "mimetype": "text/x-python",
   "name": "python",
   "nbconvert_exporter": "python",
   "pygments_lexer": "ipython3",
   "version": "3.9.13"
  }
 },
 "nbformat": 4,
 "nbformat_minor": 5
}
