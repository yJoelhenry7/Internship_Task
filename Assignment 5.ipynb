{
 "cells": [
  {
   "cell_type": "markdown",
   "id": "6250ba78",
   "metadata": {},
   "source": [
    "Detect Floating Point Number"
   ]
  },
  {
   "cell_type": "code",
   "execution_count": 1,
   "id": "9fdd6a5e",
   "metadata": {},
   "outputs": [
    {
     "name": "stdout",
     "output_type": "stream",
     "text": [
      "4\n",
      "4.0O0\n",
      "-1.00\n",
      "+4.54\n",
      "SomeRandomStuff\n",
      "False\n",
      "True\n",
      "True\n",
      "False\n"
     ]
    }
   ],
   "source": [
    "def main():\n",
    "    l = []\n",
    "    integer = int(input())\n",
    "    for i in range(integer):\n",
    "        n = input()\n",
    "        if n == 0:\n",
    "            l.append('False')\n",
    "        else:\n",
    "            try:\n",
    "                if float(n) and n != 0:\n",
    "                    l.append('True')\n",
    "                else:\n",
    "                    l.append('False')\n",
    "            except:\n",
    "                l.append('False')\n",
    "    print('\\n'.join(l))\n",
    "\n",
    "\n",
    "if __name__ == '__main__':\n",
    "    main()"
   ]
  },
  {
   "cell_type": "markdown",
   "id": "06fcc2a6",
   "metadata": {},
   "source": [
    "Re.split()"
   ]
  },
  {
   "cell_type": "code",
   "execution_count": 3,
   "id": "f5808124",
   "metadata": {},
   "outputs": [
    {
     "name": "stdout",
     "output_type": "stream",
     "text": [
      "100,000,000.000\n",
      "100\n",
      "000\n",
      "000\n",
      "000\n"
     ]
    }
   ],
   "source": [
    "regex_pattern = r\"[\\b\\W\\b]+\"    # Do not delete 'r'.\n",
    "\n",
    "import re\n",
    "print(\"\\n\".join(re.split(regex_pattern, input())))"
   ]
  },
  {
   "cell_type": "markdown",
   "id": "f2d9cd68",
   "metadata": {},
   "source": [
    "Re.findall() & Re.finditer()"
   ]
  },
  {
   "cell_type": "code",
   "execution_count": 4,
   "id": "dd29421f",
   "metadata": {},
   "outputs": [
    {
     "name": "stdout",
     "output_type": "stream",
     "text": [
      "rabcdeefgyYhFjkIoomnpOeorteeeeet\n",
      "ee\n",
      "Ioo\n",
      "Oeo\n",
      "eeeee\n"
     ]
    }
   ],
   "source": [
    "import re\n",
    "\n",
    "\n",
    "def get_vows(string: str) -> list:\n",
    "    pattern = r\"(?<=[^aeiou\\d_ ])[aeiou]{2,}(?=[^aeiou\\d_ ])\"\n",
    "    result = re.findall(pattern, string, re.I)\n",
    "    if result:\n",
    "        return result\n",
    "    return [-1]\n",
    "\n",
    "print(*get_vows(input()), sep=\"\\n\")\n",
    "\n",
    "if __name__ == \"__main__\":\n",
    "    import doctest\n",
    "    doctest.testmod()"
   ]
  },
  {
   "cell_type": "markdown",
   "id": "35adf61e",
   "metadata": {},
   "source": [
    "Re.start() & Re.end()"
   ]
  },
  {
   "cell_type": "code",
   "execution_count": 5,
   "id": "5d5bab2e",
   "metadata": {},
   "outputs": [
    {
     "name": "stdout",
     "output_type": "stream",
     "text": [
      "aaadaa\n",
      "aa\n",
      "(0, 1)\n",
      "(1, 2)\n",
      "(4, 5)\n"
     ]
    }
   ],
   "source": [
    "import re\n",
    "\n",
    "n = input()\n",
    "m = input()\n",
    "temp_set = set()\n",
    "for i in range(0,len(n)):\n",
    "    ans = re.search(rf\"{m}\",n) #To search and extract the start and end point of the regular expression\n",
    "    if ans:\n",
    "        temp_set.add((ans.start(),ans.end() - 1)) #Adding the (start, end) value to the set\n",
    "        n = (\"*\"* (i+1)) + n[i+1:] # After updating changing the ith value of input string to \"*\"\n",
    "\n",
    "temp_set = sorted(temp_set,key= lambda i :i[1]) #Sort the set \n",
    "if temp_set:\n",
    "    for i in temp_set:\n",
    "        print(i)\n",
    "else:\n",
    "    print(\"(-1, -1)\")"
   ]
  },
  {
   "cell_type": "markdown",
   "id": "99ae9c39",
   "metadata": {},
   "source": [
    "Group(), Groups() & Groupdict()"
   ]
  },
  {
   "cell_type": "code",
   "execution_count": 6,
   "id": "bbaeec22",
   "metadata": {},
   "outputs": [
    {
     "name": "stdout",
     "output_type": "stream",
     "text": [
      "..12345678910111213141516171820212223\n",
      "1\n"
     ]
    }
   ],
   "source": [
    "import re\n",
    "char = input()\n",
    "pattern = r\"([a-zA-Z0-9])\\1+\"\n",
    "match = re.search(pattern,char)\n",
    "if match:\n",
    "    print(match.group(1))\n",
    "else:\n",
    "    print(-1)"
   ]
  },
  {
   "cell_type": "markdown",
   "id": "70b55cab",
   "metadata": {},
   "source": [
    "Regex Substitution"
   ]
  },
  {
   "cell_type": "code",
   "execution_count": null,
   "id": "8eaf531d",
   "metadata": {},
   "outputs": [],
   "source": [
    "import re\n",
    "\n",
    "def replace(line: str) -> str:\n",
    "    ampersands_replaced = re.sub(r'(?<= )&&(?= )', 'and', line)\n",
    "    all_replaced = re.sub(r'(?<= )\\|\\|(?= )', 'or', ampersands_replaced)\n",
    "    print(all_replaced)\n",
    "\n",
    "number_of_rows = int(input())\n",
    "\n",
    "for _ in range(number_of_rows):\n",
    "    line_of_input = input()\n",
    "    replace(line_of_input)"
   ]
  },
  {
   "cell_type": "markdown",
   "id": "1f2f6eaa",
   "metadata": {},
   "source": [
    "Validating Roman Numerals"
   ]
  },
  {
   "cell_type": "code",
   "execution_count": null,
   "id": "6f86b529",
   "metadata": {},
   "outputs": [],
   "source": [
    "regex_pattern = r\"^(?=[MDCLXVI])M{0,3}(C[MD]|D?C{0,3})(X[CL]|L?X{0,3})(I[XV]|V?I{0,3})$\"   # Do not delete 'r'.\n",
    "\n",
    "import re\n",
    "print(str(bool(re.match(regex_pattern, input()))))"
   ]
  },
  {
   "cell_type": "markdown",
   "id": "86fbf13f",
   "metadata": {},
   "source": [
    "Validating phone numbers"
   ]
  },
  {
   "cell_type": "code",
   "execution_count": null,
   "id": "1175a7f1",
   "metadata": {},
   "outputs": [],
   "source": [
    "import re\n",
    "\n",
    "for _ in range(int(input())):\n",
    "    print('YES' if re.match(r'^[7-9]\\d{9}$', input()) else 'NO')"
   ]
  },
  {
   "cell_type": "markdown",
   "id": "8d24ba84",
   "metadata": {},
   "source": [
    "Validating and Parsing Email Addresses"
   ]
  },
  {
   "cell_type": "code",
   "execution_count": null,
   "id": "d63952b3",
   "metadata": {},
   "outputs": [],
   "source": [
    "import email.utils\n",
    "import re\n",
    "\n",
    "for _ in range(int(input())):\n",
    "    parser = email.utils.parseaddr(input())\n",
    "    email_pattern = r\"^[a-z][\\w\\-.]*@[a-z]+\\.[a-z]{1,3}$\"\n",
    "    match = re.search(email_pattern, parser[1], re.I)\n",
    "    if match:\n",
    "        print(email.utils.formataddr(parser))"
   ]
  },
  {
   "cell_type": "markdown",
   "id": "03de40cc",
   "metadata": {},
   "source": [
    "Hex Color Code"
   ]
  },
  {
   "cell_type": "code",
   "execution_count": null,
   "id": "c6ba99e0",
   "metadata": {},
   "outputs": [],
   "source": [
    "import re\n",
    "css = ''.join([input() for _ in range(int(input()))])\n",
    "hex_colors = re.findall(r'(#[A-Fa-f0-9]{6}|#[A-Fa-f0-9]{3})', ''.join(re.findall(r'{([^}]+)}', css)))\n",
    "print(*hex_colors, sep='\\n')"
   ]
  },
  {
   "cell_type": "markdown",
   "id": "f471e1be",
   "metadata": {},
   "source": [
    "HTML Parser - Part 1"
   ]
  },
  {
   "cell_type": "code",
   "execution_count": null,
   "id": "e9e019af",
   "metadata": {},
   "outputs": [],
   "source": [
    "from html.parser import HTMLParser\n",
    "\n",
    "def show(attrs):\n",
    "    for attr in attrs:\n",
    "            print(\"-> {0} > {1}\".format(attr[0], attr[1]))\n",
    "            \n",
    "class MyHTMLParser(HTMLParser):\n",
    "    def handle_starttag(self, tag, attrs):\n",
    "        print(f\"Start : {tag}\")\n",
    "        show(attrs)\n",
    "            \n",
    "    def handle_endtag(self, tag):\n",
    "        print(\"End   : \" + tag)\n",
    "\n",
    "    def handle_startendtag(self, tag, attrs):\n",
    "        print(\"Empty :\", tag)\n",
    "        show(attrs)\n",
    "        \n",
    "parser = MyHTMLParser()\n",
    "parser.feed(''.join([input() for _ in range(int(input()))]))"
   ]
  },
  {
   "cell_type": "markdown",
   "id": "b3761c48",
   "metadata": {},
   "source": [
    "HTML Parser - Part 2"
   ]
  },
  {
   "cell_type": "code",
   "execution_count": null,
   "id": "edfe2d4a",
   "metadata": {},
   "outputs": [],
   "source": [
    "from html.parser import HTMLParser\n",
    "\n",
    "class MyHTMLParser(HTMLParser):    \n",
    "    def handle_comment(self, data):\n",
    "        prefix = 'Multi' if '\\n' in data else 'Single' \n",
    "        print(f\">>> {prefix}-line Comment\", data, sep=\"\\n\")\n",
    "    \n",
    "    def handle_data(self, data):\n",
    "        if data != \"\\n\":\n",
    "            print(\">>> Data\", data, sep=\"\\n\")\n",
    "\n",
    "  \n",
    "html = \"\"       \n",
    "for i in range(int(input())):\n",
    "    html += input().rstrip()\n",
    "    html += '\\n'\n",
    "    \n",
    "parser = MyHTMLParser()\n",
    "parser.feed(html)\n",
    "parser.close()"
   ]
  },
  {
   "cell_type": "markdown",
   "id": "85162565",
   "metadata": {},
   "source": [
    "Detect HTML Tags, Attributes and Attribute Values"
   ]
  },
  {
   "cell_type": "code",
   "execution_count": null,
   "id": "7120570f",
   "metadata": {},
   "outputs": [],
   "source": [
    "from html.parser import HTMLParser\n",
    "\n",
    "class MyHTMLParser(HTMLParser):\n",
    "    def handle_starttag(self, tag, attrs):\n",
    "        print(tag, *('-> {0} > {1}'.format(*attr) for attr in attrs), sep='\\n')\n",
    "\n",
    "MyHTMLParser().feed(''.join([input() for _ in range(int(input()))]))"
   ]
  },
  {
   "cell_type": "markdown",
   "id": "baf20e03",
   "metadata": {},
   "source": [
    "Validating UID"
   ]
  },
  {
   "cell_type": "code",
   "execution_count": null,
   "id": "d4b8c165",
   "metadata": {},
   "outputs": [],
   "source": [
    "import re\n",
    "\n",
    "def is_valid_uid(uid):\n",
    "    return all([\n",
    "        re.search(r'[A-Z].*[A-Z]', uid),\n",
    "        re.search(r'\\d.*\\d.*\\d', uid),\n",
    "        not re.search(r'\\W', uid),\n",
    "        len(set(uid)) == 10,\n",
    "        len(uid) == 10\n",
    "    ])\n",
    "\n",
    "t = int(input().strip())\n",
    "\n",
    "for i in range(t):\n",
    "    uid = input().strip()\n",
    "    if is_valid_uid(uid):\n",
    "        print(\"Valid\")\n",
    "    else:\n",
    "        print(\"Invalid\")"
   ]
  },
  {
   "cell_type": "markdown",
   "id": "03d65fea",
   "metadata": {},
   "source": [
    "Validating Credit Card Numbers"
   ]
  },
  {
   "cell_type": "code",
   "execution_count": null,
   "id": "2ef9ec0c",
   "metadata": {},
   "outputs": [],
   "source": [
    "import re\n",
    "\n",
    "for i in range(int(input())):\n",
    "    \n",
    "    text = input()\n",
    "    pattern = re.compile(r\"^([456][\\d+]{3})-([\\d+]{4})-([\\d+]{4})-([\\d+]{4})$|^([456][\\d+]{15})$\")\n",
    "\n",
    "    if pattern.match(text):\n",
    "        text = ''.join([i for i in text if i != '-'])\n",
    "        if all([False if i*4 in text  else True for i in set(text)]):\n",
    "            print(\"Valid\")\n",
    "        else:\n",
    "            print(\"Invalid\")\n",
    "    else:\n",
    "        print(\"Invalid\")    "
   ]
  },
  {
   "cell_type": "markdown",
   "id": "d5aa2d2a",
   "metadata": {},
   "source": [
    "Validating Postal Codes"
   ]
  },
  {
   "cell_type": "code",
   "execution_count": null,
   "id": "9a0e4649",
   "metadata": {},
   "outputs": [],
   "source": [
    "regex_integer_in_range = r\"^[1-9]\\d{5}$\"    # Do not delete 'r'.\n",
    "regex_alternating_repetitive_digit_pair = r\"(\\d)(?=\\d\\1)\"    # Do not delete 'r'.\n",
    "\n",
    "\n",
    "import re\n",
    "P = input()\n",
    "\n",
    "print (bool(re.match(regex_integer_in_range, P)) \n",
    "and len(re.findall(regex_alternating_repetitive_digit_pair, P)) < 2)"
   ]
  },
  {
   "cell_type": "code",
   "execution_count": null,
   "id": "4c7e3970",
   "metadata": {},
   "outputs": [],
   "source": [
    "Matrix Script"
   ]
  },
  {
   "cell_type": "code",
   "execution_count": null,
   "id": "cc5d8876",
   "metadata": {},
   "outputs": [],
   "source": [
    "#!/bin/python3\n",
    "import re\n",
    "\n",
    "n, m = input().split()\n",
    "n, m = int(n), int(m)\n",
    "\n",
    "line_list = []\n",
    "for i in range(n):\n",
    "    line = input()\n",
    "    line_list.append(line)\n",
    "\n",
    "transposed_tuple_list = list(zip(*line_list))\n",
    "\n",
    "joined_string = ''\n",
    "for i in transposed_tuple_list:\n",
    "    joined_string = joined_string + ''.join(i)\n",
    "    \n",
    "print(re.sub(r'(?<=[a-zA-Z0-9])[!@#$%&\\s]+(?=[a-zA-Z0-9])', ' ', joined_string))\n",
    "\n",
    "print(result)"
   ]
  }
 ],
 "metadata": {
  "kernelspec": {
   "display_name": "Python 3 (ipykernel)",
   "language": "python",
   "name": "python3"
  },
  "language_info": {
   "codemirror_mode": {
    "name": "ipython",
    "version": 3
   },
   "file_extension": ".py",
   "mimetype": "text/x-python",
   "name": "python",
   "nbconvert_exporter": "python",
   "pygments_lexer": "ipython3",
   "version": "3.9.13"
  }
 },
 "nbformat": 4,
 "nbformat_minor": 5
}
