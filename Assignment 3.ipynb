{
 "cells": [
  {
   "cell_type": "markdown",
   "id": "ae698322",
   "metadata": {},
   "source": [
    "Polar Coordinates"
   ]
  },
  {
   "cell_type": "code",
   "execution_count": 1,
   "id": "aef2af2b",
   "metadata": {},
   "outputs": [
    {
     "name": "stdout",
     "output_type": "stream",
     "text": [
      "1+2j\n",
      "2.23606797749979\n",
      "1.1071487177940904\n"
     ]
    }
   ],
   "source": [
    "import cmath\n",
    "\n",
    "z = complex(input().strip())\n",
    "\n",
    "r = abs(z)\n",
    "theta = cmath.phase(z)\n",
    "\n",
    "print(r)\n",
    "print(theta)"
   ]
  },
  {
   "cell_type": "markdown",
   "id": "c751b6e2",
   "metadata": {},
   "source": [
    "Find Angle MBC"
   ]
  },
  {
   "cell_type": "code",
   "execution_count": 3,
   "id": "7596706f",
   "metadata": {},
   "outputs": [
    {
     "name": "stdout",
     "output_type": "stream",
     "text": [
      "10\n",
      "10\n",
      "45°\n"
     ]
    }
   ],
   "source": [
    "import math\n",
    "\n",
    "a = int(input())\n",
    "b = int(input())\n",
    "\n",
    "print(f'{math.degrees(math.atan(a / b)):1.0f}\\xb0')"
   ]
  },
  {
   "cell_type": "code",
   "execution_count": null,
   "id": "1e182209",
   "metadata": {},
   "outputs": [],
   "source": [
    "Triangle Quest"
   ]
  },
  {
   "cell_type": "code",
   "execution_count": 6,
   "id": "2eb74766",
   "metadata": {},
   "outputs": [
    {
     "name": "stdout",
     "output_type": "stream",
     "text": [
      "5\n",
      "1\n",
      "22\n",
      "333\n",
      "4444\n"
     ]
    }
   ],
   "source": [
    "for i in range(1,int(input())): \n",
    "    print((pow(10,i)//9)*i)"
   ]
  },
  {
   "cell_type": "markdown",
   "id": "94bd4ae9",
   "metadata": {},
   "source": [
    "Triangle Quest 2"
   ]
  },
  {
   "cell_type": "code",
   "execution_count": 2,
   "id": "5da8bb44",
   "metadata": {},
   "outputs": [
    {
     "name": "stdout",
     "output_type": "stream",
     "text": [
      "5\n",
      "1\n",
      "121\n",
      "12321\n",
      "1234321\n",
      "123454321\n"
     ]
    }
   ],
   "source": [
    "for i in range(1,int(input())+1): \n",
    "    print(pow(((pow(10,i)-1)//9),2))"
   ]
  },
  {
   "cell_type": "markdown",
   "id": "3ace3c2b",
   "metadata": {},
   "source": [
    "Power - Mod Power"
   ]
  },
  {
   "cell_type": "code",
   "execution_count": 4,
   "id": "b77c98fc",
   "metadata": {},
   "outputs": [
    {
     "name": "stdout",
     "output_type": "stream",
     "text": [
      "3\n",
      "4\n",
      "5\n",
      "81\n",
      "1\n"
     ]
    }
   ],
   "source": [
    "a=int(input())\n",
    "b=int(input())\n",
    "m=int(input())\n",
    "print(pow(a,b))\n",
    "print(pow(a,b,m))"
   ]
  },
  {
   "cell_type": "markdown",
   "id": "da097d90",
   "metadata": {},
   "source": [
    "Mod Divmod"
   ]
  },
  {
   "cell_type": "code",
   "execution_count": 5,
   "id": "2f0d6995",
   "metadata": {},
   "outputs": [
    {
     "name": "stdout",
     "output_type": "stream",
     "text": [
      "177\n",
      "10\n",
      "17\n",
      "7\n",
      "(17, 7)\n"
     ]
    }
   ],
   "source": [
    "a = int(input())\n",
    "b = int(input())\n",
    "\n",
    "print(a // b)\n",
    "print(a % b)\n",
    "print (divmod(a, b))"
   ]
  },
  {
   "cell_type": "markdown",
   "id": "070acf9d",
   "metadata": {},
   "source": [
    "Integers Come In All Sizes"
   ]
  },
  {
   "cell_type": "code",
   "execution_count": 7,
   "id": "f3bf4442",
   "metadata": {},
   "outputs": [
    {
     "name": "stdout",
     "output_type": "stream",
     "text": [
      "9\n",
      "29\n",
      "7\n",
      "27\n",
      "4710194409608608369201743232\n"
     ]
    }
   ],
   "source": [
    "a,b,c,d = [int(input()) for i in range(4)]\n",
    "\n",
    "print(pow(a,b)+pow(c,d))"
   ]
  }
 ],
 "metadata": {
  "kernelspec": {
   "display_name": "Python 3 (ipykernel)",
   "language": "python",
   "name": "python3"
  },
  "language_info": {
   "codemirror_mode": {
    "name": "ipython",
    "version": 3
   },
   "file_extension": ".py",
   "mimetype": "text/x-python",
   "name": "python",
   "nbconvert_exporter": "python",
   "pygments_lexer": "ipython3",
   "version": "3.9.13"
  }
 },
 "nbformat": 4,
 "nbformat_minor": 5
}
